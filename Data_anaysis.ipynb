{
 "cells": [
  {
   "cell_type": "code",
   "execution_count": 3,
   "metadata": {},
   "outputs": [],
   "source": [
    "import matplotlib.pyplot as plt\n",
    "import numpy as np\n",
    "import csv"
   ]
  },
  {
   "cell_type": "markdown",
   "metadata": {},
   "source": [
    "importing pilot study data"
   ]
  },
  {
   "cell_type": "code",
   "execution_count": 29,
   "metadata": {},
   "outputs": [
    {
     "name": "stdout",
     "output_type": "stream",
     "text": [
      "57048.44631854031 704.5573428579111\n"
     ]
    }
   ],
   "source": [
    "neat_data_pilot = np.zeros(40)\n",
    "dqn_data_pilot = np.zeros(40)\n",
    "\n",
    "\n",
    "with open(\"experiment_data/pilot_study/NEAT_pilot_study_data.csv\", \"r\") as file:\n",
    "    reader = csv.reader(file)\n",
    "    for i, row in enumerate(reader):\n",
    "        neat_data_pilot[i] = row[0]\n",
    "        \n",
    "with open(\"experiment_data/pilot_study/DQN_pilot_study_data.csv\", \"r\") as file:\n",
    "    reader = csv.reader(file)\n",
    "    for i, row in enumerate(reader):\n",
    "        dqn_data_pilot[i] = row[0]\n",
    "print(np.std(dqn_data_pilot), np.std(neat_data_pilot))\n"
   ]
  },
  {
   "cell_type": "code",
   "execution_count": 28,
   "metadata": {},
   "outputs": [
    {
     "name": "stdout",
     "output_type": "stream",
     "text": [
      "56863.97592755891\n"
     ]
    }
   ],
   "source": [
    "dqn_minus_neat = np.zeros(40)\n",
    "with open(\"experiment_data/pilot_study/DQN_minus_NEAT_pilot_study_data.csv\", \"w\", newline=\"\") as file:\n",
    "    writer = csv.writer(file)\n",
    "    for i, value in enumerate(dqn_data_pilot - neat_data_pilot):\n",
    "        writer.writerow([value])\n",
    "        dqn_minus_neat[i] = value\n",
    "        \n",
    "s = np.std(dqn_minus_neat)\n",
    "e = 10_000\n",
    "(1.96**2)*(s**2)/(e**2)\n",
    "print(s)"
   ]
  },
  {
   "cell_type": "code",
   "execution_count": 27,
   "metadata": {},
   "outputs": [
    {
     "data": {
      "image/png": "[encoded data removed]",
      "text/plain": [
       "<Figure size 640x480 with 1 Axes>"
      ]
     },
     "metadata": {},
     "output_type": "display_data"
    }
   ],
   "source": [
    "dqn_minus_neat_no_outlaiers = dqn_minus_neat[dqn_minus_neat>130_000]\n",
    "plt.hist(dqn_minus_neat_no_outlaiers, 11, color=\"#2a37ff\")\n",
    "plt.hist(dqn_minus_neat_no_outlaiers, 11, histtype=\"step\", color=\"#000000\")\n",
    "plt.show()\n",
    "\n"
   ]
  },
  {
   "cell_type": "markdown",
   "metadata": {},
   "source": [
    "importing study data"
   ]
  },
  {
   "cell_type": "code",
   "execution_count": null,
   "metadata": {},
   "outputs": [],
   "source": [
    "neat_data_pilot = np.zeros(125)\n",
    "dqn_data_pilot = np.zeros(125)\n",
    "\n",
    "\n",
    "with open(\"experiment_data/pilot_study/NEAT_pilot_study_data.csv\", \"r\") as file:\n",
    "    reader = csv.reader(file)\n",
    "    for i, row in enumerate(reader):\n",
    "        neat_data_pilot[i] = row[0]\n",
    "        \n",
    "with open(\"experiment_data/pilot_study/DQN_pilot_study_data.csv\", \"r\") as file:\n",
    "    reader = csv.reader(file)\n",
    "    for i, row in enumerate(reader):\n",
    "        dqn_data_pilot[i] = row[0]\n",
    "print(np.std(dqn_data_pilot), np.std(neat_data_pilot))"
   ]
  }
 ],
 "metadata": {
  "kernelspec": {
   "display_name": "intelligentsys",
   "language": "python",
   "name": "python3"
  },
  "language_info": {
   "codemirror_mode": {
    "name": "ipython",
    "version": 3
   },
   "file_extension": ".py",
   "mimetype": "text/x-python",
   "name": "python",
   "nbconvert_exporter": "python",
   "pygments_lexer": "ipython3",
   "version": "3.11.4"
  }
 },
 "nbformat": 4,
 "nbformat_minor": 2
}
